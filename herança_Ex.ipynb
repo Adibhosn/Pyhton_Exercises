{
  "nbformat": 4,
  "nbformat_minor": 0,
  "metadata": {
    "colab": {
      "provenance": []
    },
    "kernelspec": {
      "name": "python3",
      "display_name": "Python 3"
    },
    "language_info": {
      "name": "python"
    }
  },
  "cells": [
    {
      "cell_type": "code",
      "execution_count": 1,
      "metadata": {
        "colab": {
          "base_uri": "https://localhost:8080/"
        },
        "id": "sayTbnnvv48y",
        "outputId": "15db8fc9-2d62-435a-9ca6-c4ea5e220914"
      },
      "outputs": [
        {
          "output_type": "stream",
          "name": "stdout",
          "text": [
            "Vingadores - Guerra Infinita, 2018, 160, 2\n",
            "Atlanta, 2018, 2, 1\n",
            "Atlanta, 2018, 2, 1\n",
            "Vingadores - Guerra Infinita, 2018, 160, 2\n",
            "Demolidor, 2016, 2, 0\n",
            "Todo Mundo Em Panico, 1999, 100, 0\n",
            "Tamanho: 4\n"
          ]
        }
      ],
      "source": [
        "class Programa:\n",
        "    def __init__(self, nome, ano):\n",
        "        self._nome = nome.title()\n",
        "        self._ano = ano\n",
        "        self._like = 0\n",
        "\n",
        "    @property\n",
        "    def like(self):\n",
        "        return self._like\n",
        "\n",
        "    def curtir(self):\n",
        "        self._like +=1\n",
        "\n",
        "    @property\n",
        "    def nome(self):\n",
        "        return self._nome\n",
        "    @property\n",
        "    def ano(self):\n",
        "        return self._ano\n",
        "\n",
        "\n",
        "    @nome.setter\n",
        "    def nome(self, novo_nome):\n",
        "        self._nome = novo_nome.title()\n",
        "\n",
        "    def __str__(self):\n",
        "        return f'{self._nome}, {self._ano}, {self._like}'\n",
        "\n",
        "class Filme(Programa):\n",
        "    def __init__(self, nome, ano, duracao):\n",
        "        super().__init__(nome, ano)\n",
        "        self._duracao = duracao\n",
        "    def __str__(self):\n",
        "        return f'{self._nome}, {self._ano}, {self._duracao}, {self._like}'\n",
        "\n",
        "class Serie(Programa):\n",
        "    def __init__(self,nome, ano, temporadas):\n",
        "        super().__init__(nome, ano)\n",
        "        self._temporadas = temporadas\n",
        "    def __str__(self):\n",
        "        return f'{self._nome}, {self._ano}, {self._temporadas}, {self._like}'\n",
        "\n",
        "class Playlist():\n",
        "    def __init__(self, nome, programas):\n",
        "        self.nome = nome\n",
        "        self._programas = programas\n",
        "\n",
        "    @property\n",
        "    def listagem(self):\n",
        "        return self._programas\n",
        "\n",
        "    @property\n",
        "    def tamanho(self):\n",
        "        return len(self._programas)\n",
        "\n",
        "\n",
        "\n",
        "\n",
        "\n",
        "vingadores = Filme('vingadores - guerra infinita', 2018, 160)\n",
        "atlanta = Serie('atlanta', 2018, 2)\n",
        "tmep = Filme('todo mundo em panico', 1999, 100)\n",
        "demolidor = Serie('demolidor', 2016, 2)\n",
        "\n",
        "vingadores.curtir()\n",
        "vingadores.curtir()\n",
        "atlanta.curtir()\n",
        "\n",
        "\n",
        "#print(f'Nome: {vingadores.nome} - Likes: {vingadores.likes}')\n",
        "#print(f'Nome: {atlanta.nome} - Likes: {atlanta.likes}')\n",
        "\n",
        "filmes_series = [vingadores, atlanta]\n",
        "for programa in filmes_series:\n",
        "    #detalhes = programa.duracao if hasattr(programa, 'duracao') else programa.temporadas\n",
        "    #acessando os atributos pela superclasse Programa,\n",
        "    #usando o for, ele vai ler a lista de objetos \"filmes_series\"\n",
        "    #usando o hasattr e o if, se o obj tiver duracao sera devolvido e se tiver temporada também\n",
        "    #deve ser utilizado quando há poucos atributos especificos\n",
        "    print(programa)\n",
        "    #esse metodo imprimir esta presente nas 3 classes, e vai conseguir identificar quando tem um atributo\n",
        "    #que não esta na superclasse mas esta nas subclasses, isso faz com que eu precise apenas declarar o metodo\n",
        "    #uma vez ao inves de usa-lo para cada função\n",
        "\n",
        "listinha = [atlanta, vingadores, demolidor, tmep]\n",
        "minha_playlist = Playlist('fim de semana', listinha)\n",
        "\n",
        "\n",
        "for programa in minha_playlist.listagem:\n",
        "    print(programa)\n",
        "\n",
        "print(f'Tamanho: {len(minha_playlist.listagem)}')\n",
        "\n",
        "\n"
      ]
    },
    {
      "cell_type": "markdown",
      "source": [
        "**DUCK TYPING**"
      ],
      "metadata": {
        "id": "0PdzkTpNwB8e"
      }
    },
    {
      "cell_type": "code",
      "source": [
        "class supermercado:\n",
        "    def __init__(self, alimentos):\n",
        "        self._alimentos = alimentos\n",
        "\n",
        "    @property\n",
        "    def estoque(self):\n",
        "        return self._alimentos\n",
        "\n",
        "    def __getitem__(self, item):\n",
        "        return self._alimentos[item]\n",
        "\n",
        "\n",
        "alimentos = ['uva', 'melancia', 'carne']\n",
        "\n",
        "\n",
        "estoque = supermercado(alimentos)\n",
        "\n",
        "for i in estoque:\n",
        "    print(i)\n"
      ],
      "metadata": {
        "colab": {
          "base_uri": "https://localhost:8080/"
        },
        "id": "M0ZmjISdwH7g",
        "outputId": "bf7812e0-9cf5-46e1-81ae-5ddc14140738"
      },
      "execution_count": 2,
      "outputs": [
        {
          "output_type": "stream",
          "name": "stdout",
          "text": [
            "uva\n",
            "melancia\n",
            "carne\n"
          ]
        }
      ]
    }
  ]
}